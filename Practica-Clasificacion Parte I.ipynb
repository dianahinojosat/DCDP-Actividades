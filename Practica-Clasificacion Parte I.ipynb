{
 "cells": [
  {
   "cell_type": "markdown",
   "metadata": {
    "id": "rfXeNiZcRgDD"
   },
   "source": [
    "<a href=\"https://colab.research.google.com/github/DCDPUAEM/DCDP/blob/main/03%20Machine%20Learning/notebooks/P3-Practica-Clasificacion.ipynb\" target=\"_parent\"><img src=\"https://colab.research.google.com/assets/colab-badge.svg\" alt=\"Open In Colab\"/></a>"
   ]
  },
  {
   "cell_type": "markdown",
   "metadata": {
    "id": "5bTKL5Utvv3c"
   },
   "source": [
    "# ⭕ Parte I: Clasificación\n",
    "\n",
    "Este conjunto de datos, proporcionado por Avazu, contiene registros de publicidad en línea (como impresiones de anuncios y clicks) recolectados durante 11 días. El objetivo es predecir la probabilidad de que un usuario haga clic en un anuncio (CTR), una métrica crítica para optimizar campañas de sponsored search y real-time bidding. La práctica consiste en desarrollar un modelo de clasificación para este fin, utilizando características como el tipo de dispositivo, contexto de la página y datos anónimos del usuario.\n",
    "\n",
    "La descripción completa de las features se proporciona a continuación:"
   ]
  },
  {
   "cell_type": "markdown",
   "metadata": {
    "id": "x3x4-JQb1N85"
   },
   "source": [
    "| Nombre Columna      | Tipo (Ejemplo)           | Descripción                                                                 | ¿Relevante para Modelo? |\n",
    "|---------------------|--------------------------|-----------------------------------------------------------------------------|-------------------------|\n",
    "| `id`               | String (ej: \"100000\")    | Identificador único del registro (anuncio).                                 | ❌ No                   |\n",
    "| **`click`**        | **Binaria (0/1)**        | **Variable target**: 0 = No hubo clic, 1 = Sí hubo clic.                    | ✅ **Sí**               |\n",
    "| `year`, `month`, `hour`             | Int        | Año, mes y hora           | ✅ Sí  |\n",
    "| `C1`               | Categórica anónima       | Variable categórica encriptada (sin contexto definido).                     | ✅ Sí                   |\n",
    "| `banner_pos`       | Numérica/Categórica      | Posición del banner en la página (ej: 0, 1, 2...).                          | ✅ Sí                   |\n",
    "| `site_id`          | Categórica (ej: \"1fbe01\")| ID del sitio web donde se muestra el anuncio.                               | ✅ Sí (alta cardinalidad) |\n",
    "| `site_domain`      | Categórica (ej: \"f38457\")| Dominio del sitio web.                                                      | ⚠️ Tal vez (redundante con `site_id`) |\n",
    "| `site_category`    | Categórica (ej: \"28905b\")| Categoría del sitio (ej: noticias, deportes...).                            | ✅ Sí                   |\n",
    "| `app_id`           | Categórica (ej: \"ecadf6\")| ID de la aplicación (si el anuncio se muestra en una app móvil).             | ✅ Sí (alta cardinalidad) |\n",
    "| `app_domain`       | Categórica (ej: \"7801e8\")| Dominio de la aplicación.                                                   | ⚠️ Tal vez (redundante con `app_id`) |\n",
    "| `app_category`     | Categórica (ej: \"07d7df\")| Categoría de la aplicación (ej: juegos, redes sociales...).                 | ✅ Sí                   |\n",
    "| `device_id`        | Categórica (ej: \"a99f2a\")| ID del dispositivo del usuario.                                             | ⚠️ Alta cardinalidad (¿agrupar?) |\n",
    "| `device_ip`        | Categórica (ej: \"d1b8b4\")| Dirección IP del dispositivo.                                               | ❌ No (a menos que se agrupe por región) |\n",
    "| `device_model`     | Categórica (ej: \"8a4875\")| Modelo del dispositivo (ej: iPhone X, Samsung Galaxy S10...).               | ✅ Sí                   |\n",
    "| `device_type`      | Categórica (ej: 1, 2)    | Tipo de dispositivo (ej: 1 = móvil, 2 = tablet, etc.).                      | ✅ Sí                   |\n",
    "| `device_conn_type` | Categórica (ej: 0, 2)    | Tipo de conexión (ej: 0 = WiFi, 2 = 4G...).                                 | ✅ Sí                   |\n",
    "| `C14` - `C21`      | Categóricas anónimas     | Variables categóricas encriptadas (sin contexto definido).                   | ✅ Sí (evaluar importancia) |"
   ]
  },
  {
   "cell_type": "markdown",
   "metadata": {
    "id": "859NmG_jrQZD"
   },
   "source": [
    "Dataset: https://www.kaggle.com/competitions/avazu-ctr-prediction/data"
   ]
  },
  {
   "cell_type": "code",
   "execution_count": 1,
   "metadata": {
    "colab": {
     "base_uri": "https://localhost:8080/",
     "height": 461
    },
    "executionInfo": {
     "elapsed": 1668,
     "status": "ok",
     "timestamp": 1750291700287,
     "user": {
      "displayName": "Diana Hinojosa",
      "userId": "03317936366839321265"
     },
     "user_tz": 420
    },
    "id": "2KsfbgWFH1sx",
    "outputId": "86670a7a-7ee1-4f81-b001-1fc83aff24b6"
   },
   "outputs": [
    {
     "data": {
      "text/html": [
       "<div>\n",
       "<style scoped>\n",
       "    .dataframe tbody tr th:only-of-type {\n",
       "        vertical-align: middle;\n",
       "    }\n",
       "\n",
       "    .dataframe tbody tr th {\n",
       "        vertical-align: top;\n",
       "    }\n",
       "\n",
       "    .dataframe thead th {\n",
       "        text-align: right;\n",
       "    }\n",
       "</style>\n",
       "<table border=\"1\" class=\"dataframe\">\n",
       "  <thead>\n",
       "    <tr style=\"text-align: right;\">\n",
       "      <th></th>\n",
       "      <th>Unnamed: 0</th>\n",
       "      <th>click</th>\n",
       "      <th>C1</th>\n",
       "      <th>banner_pos</th>\n",
       "      <th>site_id</th>\n",
       "      <th>site_category</th>\n",
       "      <th>app_id</th>\n",
       "      <th>app_category</th>\n",
       "      <th>device_model</th>\n",
       "      <th>device_type</th>\n",
       "      <th>...</th>\n",
       "      <th>C15</th>\n",
       "      <th>C16</th>\n",
       "      <th>C17</th>\n",
       "      <th>C18</th>\n",
       "      <th>C19</th>\n",
       "      <th>C20</th>\n",
       "      <th>C21</th>\n",
       "      <th>year</th>\n",
       "      <th>month</th>\n",
       "      <th>day</th>\n",
       "    </tr>\n",
       "  </thead>\n",
       "  <tbody>\n",
       "    <tr>\n",
       "      <th>0</th>\n",
       "      <td>0</td>\n",
       "      <td>0</td>\n",
       "      <td>1005</td>\n",
       "      <td>0</td>\n",
       "      <td>1fbe01fe</td>\n",
       "      <td>28905ebd</td>\n",
       "      <td>ecad2386</td>\n",
       "      <td>07d7df22</td>\n",
       "      <td>44956a24</td>\n",
       "      <td>1</td>\n",
       "      <td>...</td>\n",
       "      <td>320</td>\n",
       "      <td>50</td>\n",
       "      <td>1722</td>\n",
       "      <td>0</td>\n",
       "      <td>35</td>\n",
       "      <td>-1</td>\n",
       "      <td>79</td>\n",
       "      <td>2014</td>\n",
       "      <td>10</td>\n",
       "      <td>21</td>\n",
       "    </tr>\n",
       "    <tr>\n",
       "      <th>1</th>\n",
       "      <td>1</td>\n",
       "      <td>0</td>\n",
       "      <td>1005</td>\n",
       "      <td>0</td>\n",
       "      <td>1fbe01fe</td>\n",
       "      <td>28905ebd</td>\n",
       "      <td>ecad2386</td>\n",
       "      <td>07d7df22</td>\n",
       "      <td>711ee120</td>\n",
       "      <td>1</td>\n",
       "      <td>...</td>\n",
       "      <td>320</td>\n",
       "      <td>50</td>\n",
       "      <td>1722</td>\n",
       "      <td>0</td>\n",
       "      <td>35</td>\n",
       "      <td>100084</td>\n",
       "      <td>79</td>\n",
       "      <td>2014</td>\n",
       "      <td>10</td>\n",
       "      <td>21</td>\n",
       "    </tr>\n",
       "    <tr>\n",
       "      <th>2</th>\n",
       "      <td>2</td>\n",
       "      <td>0</td>\n",
       "      <td>1005</td>\n",
       "      <td>0</td>\n",
       "      <td>1fbe01fe</td>\n",
       "      <td>28905ebd</td>\n",
       "      <td>ecad2386</td>\n",
       "      <td>07d7df22</td>\n",
       "      <td>8a4875bd</td>\n",
       "      <td>1</td>\n",
       "      <td>...</td>\n",
       "      <td>320</td>\n",
       "      <td>50</td>\n",
       "      <td>1722</td>\n",
       "      <td>0</td>\n",
       "      <td>35</td>\n",
       "      <td>100084</td>\n",
       "      <td>79</td>\n",
       "      <td>2014</td>\n",
       "      <td>10</td>\n",
       "      <td>21</td>\n",
       "    </tr>\n",
       "    <tr>\n",
       "      <th>3</th>\n",
       "      <td>3</td>\n",
       "      <td>0</td>\n",
       "      <td>1005</td>\n",
       "      <td>0</td>\n",
       "      <td>1fbe01fe</td>\n",
       "      <td>28905ebd</td>\n",
       "      <td>ecad2386</td>\n",
       "      <td>07d7df22</td>\n",
       "      <td>6332421a</td>\n",
       "      <td>1</td>\n",
       "      <td>...</td>\n",
       "      <td>320</td>\n",
       "      <td>50</td>\n",
       "      <td>1722</td>\n",
       "      <td>0</td>\n",
       "      <td>35</td>\n",
       "      <td>100084</td>\n",
       "      <td>79</td>\n",
       "      <td>2014</td>\n",
       "      <td>10</td>\n",
       "      <td>21</td>\n",
       "    </tr>\n",
       "    <tr>\n",
       "      <th>4</th>\n",
       "      <td>4</td>\n",
       "      <td>0</td>\n",
       "      <td>1005</td>\n",
       "      <td>1</td>\n",
       "      <td>fe8cc448</td>\n",
       "      <td>0569f928</td>\n",
       "      <td>ecad2386</td>\n",
       "      <td>07d7df22</td>\n",
       "      <td>779d90c2</td>\n",
       "      <td>1</td>\n",
       "      <td>...</td>\n",
       "      <td>320</td>\n",
       "      <td>50</td>\n",
       "      <td>2161</td>\n",
       "      <td>0</td>\n",
       "      <td>35</td>\n",
       "      <td>-1</td>\n",
       "      <td>157</td>\n",
       "      <td>2014</td>\n",
       "      <td>10</td>\n",
       "      <td>21</td>\n",
       "    </tr>\n",
       "    <tr>\n",
       "      <th>...</th>\n",
       "      <td>...</td>\n",
       "      <td>...</td>\n",
       "      <td>...</td>\n",
       "      <td>...</td>\n",
       "      <td>...</td>\n",
       "      <td>...</td>\n",
       "      <td>...</td>\n",
       "      <td>...</td>\n",
       "      <td>...</td>\n",
       "      <td>...</td>\n",
       "      <td>...</td>\n",
       "      <td>...</td>\n",
       "      <td>...</td>\n",
       "      <td>...</td>\n",
       "      <td>...</td>\n",
       "      <td>...</td>\n",
       "      <td>...</td>\n",
       "      <td>...</td>\n",
       "      <td>...</td>\n",
       "      <td>...</td>\n",
       "      <td>...</td>\n",
       "    </tr>\n",
       "    <tr>\n",
       "      <th>99995</th>\n",
       "      <td>99995</td>\n",
       "      <td>0</td>\n",
       "      <td>1005</td>\n",
       "      <td>0</td>\n",
       "      <td>85f751fd</td>\n",
       "      <td>50e219e0</td>\n",
       "      <td>5e3f096f</td>\n",
       "      <td>0f2161f8</td>\n",
       "      <td>be74e6fe</td>\n",
       "      <td>1</td>\n",
       "      <td>...</td>\n",
       "      <td>320</td>\n",
       "      <td>50</td>\n",
       "      <td>2480</td>\n",
       "      <td>3</td>\n",
       "      <td>297</td>\n",
       "      <td>100111</td>\n",
       "      <td>61</td>\n",
       "      <td>2014</td>\n",
       "      <td>10</td>\n",
       "      <td>21</td>\n",
       "    </tr>\n",
       "    <tr>\n",
       "      <th>99996</th>\n",
       "      <td>99996</td>\n",
       "      <td>0</td>\n",
       "      <td>1005</td>\n",
       "      <td>0</td>\n",
       "      <td>1fbe01fe</td>\n",
       "      <td>28905ebd</td>\n",
       "      <td>ecad2386</td>\n",
       "      <td>07d7df22</td>\n",
       "      <td>711ee120</td>\n",
       "      <td>1</td>\n",
       "      <td>...</td>\n",
       "      <td>320</td>\n",
       "      <td>50</td>\n",
       "      <td>1722</td>\n",
       "      <td>0</td>\n",
       "      <td>35</td>\n",
       "      <td>-1</td>\n",
       "      <td>79</td>\n",
       "      <td>2014</td>\n",
       "      <td>10</td>\n",
       "      <td>21</td>\n",
       "    </tr>\n",
       "    <tr>\n",
       "      <th>99997</th>\n",
       "      <td>99997</td>\n",
       "      <td>1</td>\n",
       "      <td>1005</td>\n",
       "      <td>0</td>\n",
       "      <td>1fbe01fe</td>\n",
       "      <td>28905ebd</td>\n",
       "      <td>ecad2386</td>\n",
       "      <td>07d7df22</td>\n",
       "      <td>293291c1</td>\n",
       "      <td>1</td>\n",
       "      <td>...</td>\n",
       "      <td>320</td>\n",
       "      <td>50</td>\n",
       "      <td>1722</td>\n",
       "      <td>0</td>\n",
       "      <td>35</td>\n",
       "      <td>-1</td>\n",
       "      <td>79</td>\n",
       "      <td>2014</td>\n",
       "      <td>10</td>\n",
       "      <td>21</td>\n",
       "    </tr>\n",
       "    <tr>\n",
       "      <th>99998</th>\n",
       "      <td>99998</td>\n",
       "      <td>0</td>\n",
       "      <td>1005</td>\n",
       "      <td>0</td>\n",
       "      <td>1fbe01fe</td>\n",
       "      <td>28905ebd</td>\n",
       "      <td>ecad2386</td>\n",
       "      <td>07d7df22</td>\n",
       "      <td>8a4875bd</td>\n",
       "      <td>1</td>\n",
       "      <td>...</td>\n",
       "      <td>320</td>\n",
       "      <td>50</td>\n",
       "      <td>1722</td>\n",
       "      <td>0</td>\n",
       "      <td>35</td>\n",
       "      <td>-1</td>\n",
       "      <td>79</td>\n",
       "      <td>2014</td>\n",
       "      <td>10</td>\n",
       "      <td>21</td>\n",
       "    </tr>\n",
       "    <tr>\n",
       "      <th>99999</th>\n",
       "      <td>99999</td>\n",
       "      <td>0</td>\n",
       "      <td>1002</td>\n",
       "      <td>0</td>\n",
       "      <td>cc1b7a47</td>\n",
       "      <td>50e219e0</td>\n",
       "      <td>ecad2386</td>\n",
       "      <td>07d7df22</td>\n",
       "      <td>43e7b962</td>\n",
       "      <td>0</td>\n",
       "      <td>...</td>\n",
       "      <td>320</td>\n",
       "      <td>50</td>\n",
       "      <td>2493</td>\n",
       "      <td>3</td>\n",
       "      <td>35</td>\n",
       "      <td>-1</td>\n",
       "      <td>117</td>\n",
       "      <td>2014</td>\n",
       "      <td>10</td>\n",
       "      <td>21</td>\n",
       "    </tr>\n",
       "  </tbody>\n",
       "</table>\n",
       "<p>100000 rows × 22 columns</p>\n",
       "</div>"
      ],
      "text/plain": [
       "       Unnamed: 0  click    C1  banner_pos   site_id site_category    app_id  \\\n",
       "0               0      0  1005           0  1fbe01fe      28905ebd  ecad2386   \n",
       "1               1      0  1005           0  1fbe01fe      28905ebd  ecad2386   \n",
       "2               2      0  1005           0  1fbe01fe      28905ebd  ecad2386   \n",
       "3               3      0  1005           0  1fbe01fe      28905ebd  ecad2386   \n",
       "4               4      0  1005           1  fe8cc448      0569f928  ecad2386   \n",
       "...           ...    ...   ...         ...       ...           ...       ...   \n",
       "99995       99995      0  1005           0  85f751fd      50e219e0  5e3f096f   \n",
       "99996       99996      0  1005           0  1fbe01fe      28905ebd  ecad2386   \n",
       "99997       99997      1  1005           0  1fbe01fe      28905ebd  ecad2386   \n",
       "99998       99998      0  1005           0  1fbe01fe      28905ebd  ecad2386   \n",
       "99999       99999      0  1002           0  cc1b7a47      50e219e0  ecad2386   \n",
       "\n",
       "      app_category device_model  device_type  ...  C15  C16   C17  C18  C19  \\\n",
       "0         07d7df22     44956a24            1  ...  320   50  1722    0   35   \n",
       "1         07d7df22     711ee120            1  ...  320   50  1722    0   35   \n",
       "2         07d7df22     8a4875bd            1  ...  320   50  1722    0   35   \n",
       "3         07d7df22     6332421a            1  ...  320   50  1722    0   35   \n",
       "4         07d7df22     779d90c2            1  ...  320   50  2161    0   35   \n",
       "...            ...          ...          ...  ...  ...  ...   ...  ...  ...   \n",
       "99995     0f2161f8     be74e6fe            1  ...  320   50  2480    3  297   \n",
       "99996     07d7df22     711ee120            1  ...  320   50  1722    0   35   \n",
       "99997     07d7df22     293291c1            1  ...  320   50  1722    0   35   \n",
       "99998     07d7df22     8a4875bd            1  ...  320   50  1722    0   35   \n",
       "99999     07d7df22     43e7b962            0  ...  320   50  2493    3   35   \n",
       "\n",
       "          C20  C21  year  month  day  \n",
       "0          -1   79  2014     10   21  \n",
       "1      100084   79  2014     10   21  \n",
       "2      100084   79  2014     10   21  \n",
       "3      100084   79  2014     10   21  \n",
       "4          -1  157  2014     10   21  \n",
       "...       ...  ...   ...    ...  ...  \n",
       "99995  100111   61  2014     10   21  \n",
       "99996      -1   79  2014     10   21  \n",
       "99997      -1   79  2014     10   21  \n",
       "99998      -1   79  2014     10   21  \n",
       "99999      -1  117  2014     10   21  \n",
       "\n",
       "[100000 rows x 22 columns]"
      ]
     },
     "execution_count": 1,
     "metadata": {},
     "output_type": "execute_result"
    }
   ],
   "source": [
    "import pandas as pd\n",
    "\n",
    "url = 'https://github.com/DCDPUAEM/DCDP/raw/refs/heads/main/03%20Machine%20Learning/data/ctr_prediction.csv'\n",
    "\n",
    "df = pd.read_csv(url)\n",
    "df"
   ]
  },
  {
   "cell_type": "markdown",
   "metadata": {
    "id": "F2gjF3lC2aGG"
   },
   "source": [
    "## Instrucciones\n",
    "\n",
    "0. Verifica si hay valores faltantes.\n",
    "1. Extrae la variable target `click`. Verifica el balanceo de clases.\n",
    "2. Quita las variables que consideres necesarias de acuerdo a la tabla anterior.\n",
    "3. Forma la matriz de features `X`.\n",
    "4. Convierte las variables categóricas en variables binarias mediante el one-hot encoding ([`get_dummies`](https://pandas.pydata.org/docs/reference/api/pandas.get_dummies.html) de pandas). No olvides el hiperparámetro `drop_first=True` y `dtype=int`. Vas a obtener un dataframe con muchas columnas, es decir, ahora tenemos una muy alta dimensionalidad.\n",
    "5. Divide en train/test\n",
    "6. Verifica los rangos de las variables numéricas que tienes para la tarea de clasificación.\n",
    "7. Realiza reducción de dimensionalidad con PCA con todas las componentes principales.\n",
    "8. Escoge un número de componentes principales de manera que te quedes con el $\\sim$80% de varianza.\n",
    "9. Entrena un clasificador de tu elección en el conjunto de prueba. Evalua con la métrica F1-score\n",
    "10. Reporta, además, la matriz de confusión."
   ]
  },
  {
   "cell_type": "code",
   "execution_count": 2,
   "metadata": {
    "executionInfo": {
     "elapsed": 2380,
     "status": "ok",
     "timestamp": 1750291703413,
     "user": {
      "displayName": "Diana Hinojosa",
      "userId": "03317936366839321265"
     },
     "user_tz": 420
    },
    "id": "9APA6GJXbJY-"
   },
   "outputs": [],
   "source": [
    "import pandas as pd\n",
    "import numpy as np\n",
    "from sklearn.model_selection import train_test_split\n",
    "from sklearn.preprocessing import StandardScaler\n",
    "from sklearn.decomposition import PCA\n",
    "from sklearn.ensemble import RandomForestClassifier\n",
    "from sklearn.metrics import f1_score, confusion_matrix, classification_report\n",
    "import matplotlib.pyplot as plt\n",
    "import seaborn as sns"
   ]
  },
  {
   "cell_type": "code",
   "execution_count": 3,
   "metadata": {
    "colab": {
     "base_uri": "https://localhost:8080/"
    },
    "executionInfo": {
     "elapsed": 57,
     "status": "ok",
     "timestamp": 1750291703472,
     "user": {
      "displayName": "Diana Hinojosa",
      "userId": "03317936366839321265"
     },
     "user_tz": 420
    },
    "id": "cCXEk_EcbZu-",
    "outputId": "d1551f09-7e5d-4dde-ac1d-472dd02b889e"
   },
   "outputs": [
    {
     "name": "stdout",
     "output_type": "stream",
     "text": [
      "Valores faltantes por columna:\n",
      " Unnamed: 0          0\n",
      "click               0\n",
      "C1                  0\n",
      "banner_pos          0\n",
      "site_id             0\n",
      "site_category       0\n",
      "app_id              0\n",
      "app_category        0\n",
      "device_model        0\n",
      "device_type         0\n",
      "device_conn_type    0\n",
      "C14                 0\n",
      "C15                 0\n",
      "C16                 0\n",
      "C17                 0\n",
      "C18                 0\n",
      "C19                 0\n",
      "C20                 0\n",
      "C21                 0\n",
      "year                0\n",
      "month               0\n",
      "day                 0\n",
      "dtype: int64\n"
     ]
    }
   ],
   "source": [
    "# Verificar valores faltantes\n",
    "print(\"Valores faltantes por columna:\\n\", df.isnull().sum())"
   ]
  },
  {
   "cell_type": "code",
   "execution_count": 4,
   "metadata": {
    "colab": {
     "base_uri": "https://localhost:8080/"
    },
    "executionInfo": {
     "elapsed": 53,
     "status": "ok",
     "timestamp": 1750291704723,
     "user": {
      "displayName": "Diana Hinojosa",
      "userId": "03317936366839321265"
     },
     "user_tz": 420
    },
    "id": "rB5sDnMJbkZi",
    "outputId": "4423fd2f-4edc-46dd-a09a-fa21b63f077c"
   },
   "outputs": [
    {
     "name": "stdout",
     "output_type": "stream",
     "text": [
      "\n",
      "Balance de clases:\n",
      " click\n",
      "0    82510\n",
      "1    17490\n",
      "Name: count, dtype: int64\n"
     ]
    }
   ],
   "source": [
    "# Extrae la variable target click. Verifica el balanceo de clases.\n",
    "target = 'click'\n",
    "print(\"\\nBalance de clases:\\n\", df[target].value_counts())"
   ]
  },
  {
   "cell_type": "code",
   "execution_count": 5,
   "metadata": {
    "colab": {
     "base_uri": "https://localhost:8080/"
    },
    "executionInfo": {
     "elapsed": 6,
     "status": "ok",
     "timestamp": 1750291477236,
     "user": {
      "displayName": "Diana Hinojosa",
      "userId": "03317936366839321265"
     },
     "user_tz": 420
    },
    "id": "qFXP13necqum",
    "outputId": "5433769d-455c-430a-df0d-8bff490f1e8e"
   },
   "outputs": [
    {
     "name": "stdout",
     "output_type": "stream",
     "text": [
      "Columnas disponibles:\n",
      " ['Unnamed: 0', 'click', 'C1', 'banner_pos', 'site_id', 'site_category', 'app_id', 'app_category', 'device_model', 'device_type', 'device_conn_type', 'C14', 'C15', 'C16', 'C17', 'C18', 'C19', 'C20', 'C21', 'year', 'month', 'day']\n"
     ]
    }
   ],
   "source": [
    "print(\"Columnas disponibles:\\n\", df.columns.tolist())"
   ]
  },
  {
   "cell_type": "code",
   "execution_count": 6,
   "metadata": {
    "executionInfo": {
     "elapsed": 14,
     "status": "ok",
     "timestamp": 1750291710481,
     "user": {
      "displayName": "Diana Hinojosa",
      "userId": "03317936366839321265"
     },
     "user_tz": 420
    },
    "id": "OiJT6nwOb0eL"
   },
   "outputs": [],
   "source": [
    "# Columnas a eliminar\n",
    "cols_to_drop = ['Unnamed: 0']\n",
    "df = df.drop(columns=cols_to_drop)"
   ]
  },
  {
   "cell_type": "code",
   "execution_count": 7,
   "metadata": {
    "executionInfo": {
     "elapsed": 28,
     "status": "ok",
     "timestamp": 1750291712838,
     "user": {
      "displayName": "Diana Hinojosa",
      "userId": "03317936366839321265"
     },
     "user_tz": 420
    },
    "id": "8AeX9rjJdgO2"
   },
   "outputs": [],
   "source": [
    "# Separar variable objetivo y features\n",
    "X = df.drop(columns=[target])\n",
    "y = df[target]"
   ]
  },
  {
   "cell_type": "code",
   "execution_count": 8,
   "metadata": {
    "colab": {
     "base_uri": "https://localhost:8080/"
    },
    "executionInfo": {
     "elapsed": 2570,
     "status": "ok",
     "timestamp": 1750291717748,
     "user": {
      "displayName": "Diana Hinojosa",
      "userId": "03317936366839321265"
     },
     "user_tz": 420
    },
    "id": "J8nuUGSsdoHi",
    "outputId": "55041392-07ce-458a-cea9-e3ccc8244d6f"
   },
   "outputs": [
    {
     "name": "stdout",
     "output_type": "stream",
     "text": [
      "\n",
      "Tipo de dato:\n",
      " C1                   int64\n",
      "banner_pos           int64\n",
      "site_id             object\n",
      "site_category       object\n",
      "app_id              object\n",
      "app_category        object\n",
      "device_model        object\n",
      "device_type          int64\n",
      "device_conn_type     int64\n",
      "C14                  int64\n",
      "C15                  int64\n",
      "C16                  int64\n",
      "C17                  int64\n",
      "C18                  int64\n",
      "C19                  int64\n",
      "C20                  int64\n",
      "C21                  int64\n",
      "year                 int64\n",
      "month                int64\n",
      "day                  int64\n",
      "dtype: object\n",
      "\n",
      "Columnas categóricas para one-hot encoding: ['site_id', 'site_category', 'app_id', 'app_category', 'device_model']\n"
     ]
    }
   ],
   "source": [
    "# Tipo de dato\n",
    "print(\"\\nTipo de dato:\\n\", X.dtypes)\n",
    "# One-hot encoding de variables categóricas\n",
    "# Seleccionar columnas categóricas reales (tipo object)\n",
    "categorical_cols = X.select_dtypes(include='object').columns.tolist()\n",
    "print(\"\\nColumnas categóricas para one-hot encoding:\", categorical_cols)\n",
    "\n",
    "# Aplicar one-hot encoding solo a esas columnas de variables categóricas\n",
    "X = pd.get_dummies(X, columns=categorical_cols, drop_first=True, dtype=int)"
   ]
  },
  {
   "cell_type": "code",
   "execution_count": 9,
   "metadata": {
    "executionInfo": {
     "elapsed": 4081,
     "status": "ok",
     "timestamp": 1750291722847,
     "user": {
      "displayName": "Diana Hinojosa",
      "userId": "03317936366839321265"
     },
     "user_tz": 420
    },
    "id": "sX1G8ZNBfMlg"
   },
   "outputs": [],
   "source": [
    "# División train/test\n",
    "X_train, X_test, y_train, y_test = train_test_split(X, y, stratify=y, test_size=0.3, random_state=42)"
   ]
  },
  {
   "cell_type": "code",
   "execution_count": 10,
   "metadata": {
    "colab": {
     "base_uri": "https://localhost:8080/"
    },
    "executionInfo": {
     "elapsed": 7151,
     "status": "ok",
     "timestamp": 1750291571897,
     "user": {
      "displayName": "Diana Hinojosa",
      "userId": "03317936366839321265"
     },
     "user_tz": 420
    },
    "id": "MW0l0xKcgYtl",
    "outputId": "0ee79f63-cc2e-40e0-92cd-335bc684d226"
   },
   "outputs": [
    {
     "name": "stdout",
     "output_type": "stream",
     "text": [
      "\n",
      "Rangos variables (train):\n",
      "       C1  banner_pos  device_type  device_conn_type    C14  C15  C16   C17  \\\n",
      "min  1001           0            0                 0    375  120   20   112   \n",
      "max  1010           5            5                 5  21705  728  480  2497   \n",
      "\n",
      "     C18   C19  ...  device_model_ff3242b8  device_model_ff503cfe  \\\n",
      "min    0    33  ...                      0                      0   \n",
      "max    3  1835  ...                      0                      1   \n",
      "\n",
      "     device_model_ff607a1a  device_model_ff717dd1  device_model_ff91ea03  \\\n",
      "min                      0                      0                      0   \n",
      "max                      1                      1                      1   \n",
      "\n",
      "     device_model_ffb16766  device_model_ffcd1497  device_model_ffe3ae81  \\\n",
      "min                      0                      0                      0   \n",
      "max                      1                      1                      1   \n",
      "\n",
      "     device_model_ffe69079  device_model_ffeafe15  \n",
      "min                      0                      0  \n",
      "max                      1                      1  \n",
      "\n",
      "[2 rows x 4115 columns]\n"
     ]
    }
   ],
   "source": [
    "# Ver rangos\n",
    "print(\"\\nRangos variables (train):\")\n",
    "print(pd.DataFrame(X_train).agg(['min', 'max']))"
   ]
  },
  {
   "cell_type": "code",
   "execution_count": 11,
   "metadata": {},
   "outputs": [],
   "source": [
    "# Hay muchos datos y estan desbalanceados \n",
    "from imblearn.under_sampling import RandomUnderSampler\n",
    "# Inicializa el sampler\n",
    "rus = RandomUnderSampler(random_state=42)\n",
    "\n",
    "# Aplica sobre el conjunto de entrenamiento\n",
    "X_train_res, y_train_res = rus.fit_resample(X_train, y_train)"
   ]
  },
  {
   "cell_type": "code",
   "execution_count": 12,
   "metadata": {
    "colab": {
     "base_uri": "https://localhost:8080/"
    },
    "executionInfo": {
     "elapsed": 13842,
     "status": "ok",
     "timestamp": 1750291736699,
     "user": {
      "displayName": "Diana Hinojosa",
      "userId": "03317936366839321265"
     },
     "user_tz": 420
    },
    "id": "x4aELZrnfPnq",
    "outputId": "b684bbb5-0ffb-4f94-84c1-812653fdb53c"
   },
   "outputs": [
    {
     "name": "stdout",
     "output_type": "stream",
     "text": [
      "\n",
      "Rangos variables (train):\n",
      "         0          1         2         3         4         5         6     \\\n",
      "min -3.915869  -0.506342 -1.954499 -0.307193 -5.326732 -9.164672 -0.543240   \n",
      "max  4.932781  11.675114  7.548651  7.819351  1.331966  0.201841  8.991953   \n",
      "\n",
      "         7         8         9     ...  4105        4106        4107  \\\n",
      "min -4.680482 -0.689646 -0.411284  ...   0.0   -0.006391   -0.009038   \n",
      "max  1.437162  1.801627  6.158670  ...   0.0  156.476835  110.643572   \n",
      "\n",
      "          4108       4109        4110        4111  4112       4113  4114  \n",
      "min  -0.012782  -0.011070   -0.006391   -0.006391   0.0  -0.011070   0.0  \n",
      "max  78.233624  90.338253  156.476835  156.476835   0.0  90.338253   0.0  \n",
      "\n",
      "[2 rows x 4115 columns]\n"
     ]
    }
   ],
   "source": [
    "# Escalar variables numéricas\n",
    "#scaler = StandardScaler()\n",
    "#X_train_scaled = scaler.fit_transform(X_train)\n",
    "#X_test_scaled = scaler.transform(X_test)\n",
    "\n",
    "scaler = StandardScaler()\n",
    "X_train_scaled = scaler.fit_transform(X_train_res)\n",
    "X_test_scaled = scaler.transform(X_test)  \n",
    "\n",
    "# Ver rangos\n",
    "print(\"\\nRangos variables (train):\")\n",
    "print(pd.DataFrame(X_train_scaled).agg(['min', 'max']))"
   ]
  },
  {
   "cell_type": "code",
   "execution_count": 13,
   "metadata": {
    "id": "R0QWRIgUgyuo"
   },
   "outputs": [],
   "source": [
    "# PCA con todas las componentes\n",
    "pca = PCA()\n",
    "X_train_pca = pca.fit_transform(X_train_scaled)\n",
    "X_test_pca = pca.transform(X_test_scaled)"
   ]
  },
  {
   "cell_type": "code",
   "execution_count": 14,
   "metadata": {
    "id": "X6GUB_H5g0dT"
   },
   "outputs": [
    {
     "data": {
      "image/png": "[encoded data removed]",
      "text/plain": [
       "<Figure size 640x480 with 1 Axes>"
      ]
     },
     "metadata": {},
     "output_type": "display_data"
    }
   ],
   "source": [
    "# Varianza acumulada\n",
    "varianza_acumulada = np.cumsum(pca.explained_variance_ratio_)\n",
    "plt.plot(varianza_acumulada)\n",
    "plt.axhline(y=0.80, color='r', linestyle='--')\n",
    "plt.xlabel('Número de componentes')\n",
    "plt.ylabel('Varianza acumulada')\n",
    "plt.title('Varianza acumulada PCA')\n",
    "plt.grid(True)\n",
    "plt.show()"
   ]
  },
  {
   "cell_type": "code",
   "execution_count": 15,
   "metadata": {},
   "outputs": [],
   "source": [
    "# Selección de número de componentes para ~80% varianza\n",
    "n_components = 1800\n",
    "\n",
    "# Aplicar PCA con ese número de componentes\n",
    "pca = PCA(n_components=n_components)\n",
    "X_train_pca = pca.fit_transform(X_train_scaled)\n",
    "X_test_pca = pca.transform(X_test_scaled)"
   ]
  },
  {
   "cell_type": "code",
   "execution_count": 18,
   "metadata": {
    "id": "7vaSZSnKJRiO"
   },
   "outputs": [
    {
     "name": "stdout",
     "output_type": "stream",
     "text": [
      "\n",
      "F1-score: 0.3969723316115174\n",
      "\n",
      "Reporte de clasificación:\n",
      "               precision    recall  f1-score   support\n",
      "\n",
      "           0       0.91      0.58      0.71     24753\n",
      "           1       0.27      0.74      0.40      5247\n",
      "\n",
      "    accuracy                           0.61     30000\n",
      "   macro avg       0.59      0.66      0.55     30000\n",
      "weighted avg       0.80      0.61      0.65     30000\n",
      "\n"
     ]
    },
    {
     "data": {
      "image/png": "[encoded data removed]",
      "text/plain": [
       "<Figure size 640x480 with 2 Axes>"
      ]
     },
     "metadata": {},
     "output_type": "display_data"
    }
   ],
   "source": [
    "# Random Forest\n",
    "# Entrenamiento\n",
    "clf = RandomForestClassifier(n_estimators=100, max_depth=10, random_state=42, n_jobs=-1)\n",
    "clf.fit(X_train_pca, y_train_res)\n",
    "\n",
    "# Predicción\n",
    "y_pred = clf.predict(X_test_pca)\n",
    "\n",
    "# Evaluación\n",
    "print(\"\\nF1-score:\", f1_score(y_test, y_pred))\n",
    "print(\"\\nReporte de clasificación:\\n\", classification_report(y_test, y_pred))\n",
    "\n",
    "# Matriz de confusión\n",
    "cm = confusion_matrix(y_test, y_pred)\n"
   ]
  }
 ],
 "metadata": {
  "colab": {
   "collapsed_sections": [
    "IcBBCVOWQDol"
   ],
   "provenance": [
    {
     "file_id": "https://github.com/DCDPUAEM/DCDP/blob/main/03%20Machine%20Learning/notebooks/P3-Practica-Clasificacion.ipynb",
     "timestamp": 1750290083596
    }
   ]
  },
  "kernelspec": {
   "display_name": "antiberty",
   "language": "python",
   "name": "python3"
  },
  "language_info": {
   "codemirror_mode": {
    "name": "ipython",
    "version": 3
   },
   "file_extension": ".py",
   "mimetype": "text/x-python",
   "name": "python",
   "nbconvert_exporter": "python",
   "pygments_lexer": "ipython3",
   "version": "3.12.7"
  }
 },
 "nbformat": 4,
 "nbformat_minor": 0
}
